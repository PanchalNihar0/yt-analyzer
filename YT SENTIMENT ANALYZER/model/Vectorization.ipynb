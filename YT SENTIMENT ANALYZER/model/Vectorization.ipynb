{
 "cells": [
  {
   "cell_type": "code",
   "execution_count": 24,
   "id": "7937b49e",
   "metadata": {},
   "outputs": [],
   "source": [
    "import pandas as pd\n",
    "from langdetect import detect\n",
    "from langdetect.lang_detect_exception import LangDetectException\n",
    "import pickle\n",
    "\n",
    "# Load your dataset\n",
    "import csv\n",
    "df = pd.read_csv(\"D:/projects/YT SENTIMENT ANALYZER/data/english_cleaned_dataset.csv\", quoting=csv.QUOTE_ALL)\n",
    "\n",
    "\n",
    "\n"
   ]
  },
  {
   "cell_type": "code",
   "execution_count": 25,
   "id": "5e718aef",
   "metadata": {},
   "outputs": [
    {
     "name": "stdout",
     "output_type": "stream",
     "text": [
      "Sentiment\n",
      "positive    10645\n",
      "neutral      3317\n",
      "negative     2296\n",
      "Name: count, dtype: int64\n"
     ]
    }
   ],
   "source": [
    "print(df[\"Sentiment\"].value_counts(dropna=False))\n"
   ]
  },
  {
   "cell_type": "code",
   "execution_count": 26,
   "id": "01d69771",
   "metadata": {},
   "outputs": [
    {
     "name": "stdout",
     "output_type": "stream",
     "text": [
      "Index(['Comment', 'Sentiment', 'Cleaned_Comment'], dtype='object')\n",
      "0     neutral\n",
      "1    negative\n",
      "2    positive\n",
      "3    negative\n",
      "4    positive\n",
      "Name: Sentiment, dtype: object\n"
     ]
    }
   ],
   "source": [
    "print(df.columns)\n",
    "print(df[\"Sentiment\"].head())"
   ]
  },
  {
   "cell_type": "code",
   "execution_count": 27,
   "id": "d05e8f61",
   "metadata": {},
   "outputs": [],
   "source": [
    "df[\"Sentiment\"] = df[\"Sentiment\"].str.lower().map({\n",
    "    \"negative\": 0,\n",
    "    \"neutral\": 1,\n",
    "    \"positive\": 2\n",
    "})\n",
    "\n"
   ]
  },
  {
   "cell_type": "code",
   "execution_count": 28,
   "id": "4b071a37",
   "metadata": {},
   "outputs": [
    {
     "name": "stdout",
     "output_type": "stream",
     "text": [
      "Sentiment\n",
      "2    10645\n",
      "1     3317\n",
      "0     2296\n",
      "Name: count, dtype: int64\n"
     ]
    }
   ],
   "source": [
    "from sklearn.feature_extraction.text import TfidfVectorizer\n",
    "\n",
    "\n",
    "print(df[\"Sentiment\"].value_counts(dropna=False))\n",
    "\n",
    "# Vectorize\n",
    "vectorizer = TfidfVectorizer(max_features=5000, ngram_range=(1, 2))\n",
    "X_vectorized = vectorizer.fit_transform(df['Cleaned_Comment'])\n",
    "y = df[\"Sentiment\"]"
   ]
  },
  {
   "cell_type": "code",
   "execution_count": 29,
   "id": "5f64aa92",
   "metadata": {},
   "outputs": [],
   "source": [
    "\n",
    "# Save vectorizer and data\n",
    "with open(\"D:/projects/YT SENTIMENT ANALYZER/model/vectorizer.pkl\", \"wb\") as f:\n",
    "    pickle.dump(vectorizer, f)\n",
    "\n",
    "with open(\"D:/projects/YT SENTIMENT ANALYZER/model/X_vectorized.pkl\", \"wb\") as f:\n",
    "    pickle.dump(X_vectorized, f)\n",
    "y = df[\"Sentiment\"].dropna()  # Drop rows with missing sentiment\n",
    "X = X[:len(y)]  # Ensure X and y stay aligned\n",
    "\n",
    "with open(\"D:/projects/YT SENTIMENT ANALYZER/model/y.pkl\", \"wb\") as f:\n",
    "    pickle.dump(y, f)"
   ]
  },
  {
   "cell_type": "code",
   "execution_count": 30,
   "id": "77577bdb",
   "metadata": {},
   "outputs": [
    {
     "name": "stdout",
     "output_type": "stream",
     "text": [
      "[1 0 2]\n"
     ]
    }
   ],
   "source": [
    "print(df[\"Sentiment\"].unique())\n"
   ]
  },
  {
   "cell_type": "code",
   "execution_count": 31,
   "id": "facf9cc9",
   "metadata": {},
   "outputs": [
    {
     "name": "stdout",
     "output_type": "stream",
     "text": [
      "[1 0 2]\n"
     ]
    }
   ],
   "source": [
    "print(df[\"Sentiment\"].unique())\n"
   ]
  },
  {
   "cell_type": "code",
   "execution_count": null,
   "id": "ffcbe5aa",
   "metadata": {},
   "outputs": [],
   "source": []
  }
 ],
 "metadata": {
  "kernelspec": {
   "display_name": "Python 3",
   "language": "python",
   "name": "python3"
  },
  "language_info": {
   "codemirror_mode": {
    "name": "ipython",
    "version": 3
   },
   "file_extension": ".py",
   "mimetype": "text/x-python",
   "name": "python",
   "nbconvert_exporter": "python",
   "pygments_lexer": "ipython3",
   "version": "3.12.5"
  }
 },
 "nbformat": 4,
 "nbformat_minor": 5
}
