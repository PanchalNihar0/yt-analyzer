{
 "cells": [
  {
   "cell_type": "code",
   "execution_count": 2,
   "id": "7937b49e",
   "metadata": {},
   "outputs": [],
   "source": [
    "import pandas as pd\n",
    "from langdetect import detect\n",
    "from langdetect.lang_detect_exception import LangDetectException\n",
    "\n",
    "# Load your dataset\n",
    "df = pd.read_csv(\"D:/projects/YT SENTIMENT ANALYZER/data/english_cleaned_dataset.csv\")  # Adjust path if needed\n",
    "\n",
    "\n"
   ]
  },
  {
   "cell_type": "code",
   "execution_count": 3,
   "id": "4b071a37",
   "metadata": {},
   "outputs": [],
   "source": [
    "from sklearn.feature_extraction.text import TfidfVectorizer\n",
    "\n",
    "# Step 1: Initialize the vectorizer\n",
    "vectorizer = TfidfVectorizer(max_features=5000, ngram_range=(1, 2))  # unigram + bigram\n",
    "\n",
    "# Step 2: Fit and transform the Cleaned_Comment column\n",
    "X = vectorizer.fit_transform(df['Cleaned_Comment'])"
   ]
  },
  {
   "cell_type": "code",
   "execution_count": 4,
   "id": "5f64aa92",
   "metadata": {},
   "outputs": [
    {
     "data": {
      "text/plain": [
       "(16258, 5000)"
      ]
     },
     "execution_count": 4,
     "metadata": {},
     "output_type": "execute_result"
    }
   ],
   "source": [
    "X.shape"
   ]
  },
  {
   "cell_type": "code",
   "execution_count": null,
   "id": "4ced3a0d",
   "metadata": {},
   "outputs": [],
   "source": []
  }
 ],
 "metadata": {
  "kernelspec": {
   "display_name": "Python 3",
   "language": "python",
   "name": "python3"
  },
  "language_info": {
   "codemirror_mode": {
    "name": "ipython",
    "version": 3
   },
   "file_extension": ".py",
   "mimetype": "text/x-python",
   "name": "python",
   "nbconvert_exporter": "python",
   "pygments_lexer": "ipython3",
   "version": "3.12.5"
  }
 },
 "nbformat": 4,
 "nbformat_minor": 5
}
